{
 "cells": [
  {
   "cell_type": "code",
   "execution_count": 15,
   "metadata": {},
   "outputs": [],
   "source": [
    "include(\"scaredyfish.jl\");"
   ]
  },
  {
   "cell_type": "markdown",
   "metadata": {},
   "source": [
    "# Run one simulation"
   ]
  },
  {
   "cell_type": "code",
   "execution_count": 16,
   "metadata": {},
   "outputs": [
    {
     "name": "stdout",
     "output_type": "stream",
     "text": [
      "  0.004589 seconds (26.15 k allocations: 2.813 MiB)\n"
     ]
    }
   ],
   "source": [
    "\"\"\"\n",
    "Perform one simulation and write to disk.\n",
    "\n",
    "Returns\n",
    "-------\n",
    "Array with output of a single simulation. Writes this to disk.\n",
    "\n",
    "\"\"\"\n",
    "\n",
    "## JIT compiling (ignore me)\n",
    "scaredyFish(3, 1, 0.01, 0.01, 0.01, 0.01, 1.0, 23, 100, 0.03, 1, 1.0, -10.0, 1.0)\n",
    "\n",
    "## ---\n",
    "## Perform one simulation and print runtime\n",
    "## ---\n",
    "@time out = scaredyFish(\n",
    "    6,         ## n agents\n",
    "    1,         ## number of initial misinformation events\n",
    "    0.012,     ## max step size for walkers, units of m/dt\n",
    "    0.03,      ## constant step size for runners, units of m/dt\n",
    "    0.05,      ## turn size parameter for walkers\n",
    "    0.3,       ## turn size parameter for runners\n",
    "    2.5,       ## sensory radius\n",
    "    23,        ## duration of fleeing\n",
    "    333,       ## maxtime\n",
    "    0.03,      ## time step length in seconds\n",
    "    1,         ## inhibition strength\n",
    "    7.5,       ## excitation strength\n",
    "    -25.0,     ## intercept\n",
    "    sqrt(18))  ## dimension of square reef\n",
    "\n",
    "## Write output\n",
    "writedlm(\"out.tsv\", out, '\\t');"
   ]
  },
  {
   "cell_type": "code",
   "execution_count": null,
   "metadata": {},
   "outputs": [],
   "source": []
  }
 ],
 "metadata": {
  "kernelspec": {
   "display_name": "Julia 1.7.2",
   "language": "julia",
   "name": "julia-1.7"
  },
  "language_info": {
   "file_extension": ".jl",
   "mimetype": "application/julia",
   "name": "julia",
   "version": "1.7.2"
  }
 },
 "nbformat": 4,
 "nbformat_minor": 4
}
